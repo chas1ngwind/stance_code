{
 "cells": [
  {
   "cell_type": "code",
   "execution_count": 1,
   "metadata": {},
   "outputs": [],
   "source": [
    "import pandas as pd\n",
    "import numpy as np\n",
    "from sklearn.linear_model import LogisticRegression\n",
    "from sklearn.metrics import accuracy_score,f1_score,recall_score,precision_score"
   ]
  },
  {
   "cell_type": "code",
   "execution_count": 2,
   "metadata": {},
   "outputs": [],
   "source": [
    "import torch"
   ]
  },
  {
   "cell_type": "code",
   "execution_count": 3,
   "metadata": {},
   "outputs": [
    {
     "data": {
      "text/plain": [
       "tensor([[1, 5],\n",
       "        [2, 6],\n",
       "        [3, 7],\n",
       "        [4, 8]])"
      ]
     },
     "execution_count": 3,
     "metadata": {},
     "output_type": "execute_result"
    }
   ],
   "source": [
    "a = torch.tensor([1,2,3,4])\n",
    "b = torch.tensor([5,6,7,8])\n",
    "torch.stack([a,b],1)"
   ]
  },
  {
   "cell_type": "code",
   "execution_count": 4,
   "metadata": {},
   "outputs": [],
   "source": [
    "train_data = pd.read_csv(\"../stance_code_local/consistency_data.csv\")\n",
    "test_data = pd.read_csv('../stance_code_local/inconsistency_data.csv')"
   ]
  },
  {
   "cell_type": "code",
   "execution_count": 5,
   "metadata": {},
   "outputs": [
    {
     "data": {
      "text/html": [
       "<div>\n",
       "<style scoped>\n",
       "    .dataframe tbody tr th:only-of-type {\n",
       "        vertical-align: middle;\n",
       "    }\n",
       "\n",
       "    .dataframe tbody tr th {\n",
       "        vertical-align: top;\n",
       "    }\n",
       "\n",
       "    .dataframe thead th {\n",
       "        text-align: right;\n",
       "    }\n",
       "</style>\n",
       "<table border=\"1\" class=\"dataframe\">\n",
       "  <thead>\n",
       "    <tr style=\"text-align: right;\">\n",
       "      <th></th>\n",
       "      <th>undermine_score</th>\n",
       "      <th>support_score</th>\n",
       "      <th>cp_distance</th>\n",
       "      <th>cop_distance</th>\n",
       "      <th>predict_label</th>\n",
       "      <th>distance_label</th>\n",
       "      <th>gold</th>\n",
       "    </tr>\n",
       "  </thead>\n",
       "  <tbody>\n",
       "    <tr>\n",
       "      <th>0</th>\n",
       "      <td>4.980137</td>\n",
       "      <td>-5.918371</td>\n",
       "      <td>1.923178</td>\n",
       "      <td>0.001339</td>\n",
       "      <td>0</td>\n",
       "      <td>0</td>\n",
       "      <td>0</td>\n",
       "    </tr>\n",
       "    <tr>\n",
       "      <th>1</th>\n",
       "      <td>-4.051531</td>\n",
       "      <td>3.098645</td>\n",
       "      <td>0.004558</td>\n",
       "      <td>0.010478</td>\n",
       "      <td>1</td>\n",
       "      <td>1</td>\n",
       "      <td>1</td>\n",
       "    </tr>\n",
       "    <tr>\n",
       "      <th>2</th>\n",
       "      <td>-1.103358</td>\n",
       "      <td>5.317815</td>\n",
       "      <td>0.293655</td>\n",
       "      <td>1.842567</td>\n",
       "      <td>1</td>\n",
       "      <td>1</td>\n",
       "      <td>1</td>\n",
       "    </tr>\n",
       "    <tr>\n",
       "      <th>3</th>\n",
       "      <td>-2.957279</td>\n",
       "      <td>5.612340</td>\n",
       "      <td>0.010343</td>\n",
       "      <td>1.754936</td>\n",
       "      <td>1</td>\n",
       "      <td>1</td>\n",
       "      <td>1</td>\n",
       "    </tr>\n",
       "    <tr>\n",
       "      <th>4</th>\n",
       "      <td>-2.915035</td>\n",
       "      <td>5.855358</td>\n",
       "      <td>0.004241</td>\n",
       "      <td>1.868177</td>\n",
       "      <td>1</td>\n",
       "      <td>1</td>\n",
       "      <td>1</td>\n",
       "    </tr>\n",
       "    <tr>\n",
       "      <th>...</th>\n",
       "      <td>...</td>\n",
       "      <td>...</td>\n",
       "      <td>...</td>\n",
       "      <td>...</td>\n",
       "      <td>...</td>\n",
       "      <td>...</td>\n",
       "      <td>...</td>\n",
       "    </tr>\n",
       "    <tr>\n",
       "      <th>2184</th>\n",
       "      <td>2.155837</td>\n",
       "      <td>-1.537567</td>\n",
       "      <td>1.053408</td>\n",
       "      <td>0.922337</td>\n",
       "      <td>0</td>\n",
       "      <td>0</td>\n",
       "      <td>0</td>\n",
       "    </tr>\n",
       "    <tr>\n",
       "      <th>2185</th>\n",
       "      <td>6.712749</td>\n",
       "      <td>-5.522651</td>\n",
       "      <td>1.332932</td>\n",
       "      <td>0.112898</td>\n",
       "      <td>0</td>\n",
       "      <td>0</td>\n",
       "      <td>0</td>\n",
       "    </tr>\n",
       "    <tr>\n",
       "      <th>2186</th>\n",
       "      <td>-2.778294</td>\n",
       "      <td>2.587539</td>\n",
       "      <td>0.518143</td>\n",
       "      <td>1.368011</td>\n",
       "      <td>1</td>\n",
       "      <td>1</td>\n",
       "      <td>1</td>\n",
       "    </tr>\n",
       "    <tr>\n",
       "      <th>2187</th>\n",
       "      <td>-3.157147</td>\n",
       "      <td>3.050995</td>\n",
       "      <td>0.483791</td>\n",
       "      <td>1.372143</td>\n",
       "      <td>1</td>\n",
       "      <td>1</td>\n",
       "      <td>1</td>\n",
       "    </tr>\n",
       "    <tr>\n",
       "      <th>2188</th>\n",
       "      <td>0.692743</td>\n",
       "      <td>0.942525</td>\n",
       "      <td>0.609729</td>\n",
       "      <td>0.659963</td>\n",
       "      <td>1</td>\n",
       "      <td>1</td>\n",
       "      <td>1</td>\n",
       "    </tr>\n",
       "  </tbody>\n",
       "</table>\n",
       "<p>2189 rows × 7 columns</p>\n",
       "</div>"
      ],
      "text/plain": [
       "      undermine_score  support_score  cp_distance  cop_distance  \\\n",
       "0            4.980137      -5.918371     1.923178      0.001339   \n",
       "1           -4.051531       3.098645     0.004558      0.010478   \n",
       "2           -1.103358       5.317815     0.293655      1.842567   \n",
       "3           -2.957279       5.612340     0.010343      1.754936   \n",
       "4           -2.915035       5.855358     0.004241      1.868177   \n",
       "...               ...            ...          ...           ...   \n",
       "2184         2.155837      -1.537567     1.053408      0.922337   \n",
       "2185         6.712749      -5.522651     1.332932      0.112898   \n",
       "2186        -2.778294       2.587539     0.518143      1.368011   \n",
       "2187        -3.157147       3.050995     0.483791      1.372143   \n",
       "2188         0.692743       0.942525     0.609729      0.659963   \n",
       "\n",
       "      predict_label  distance_label  gold  \n",
       "0                 0               0     0  \n",
       "1                 1               1     1  \n",
       "2                 1               1     1  \n",
       "3                 1               1     1  \n",
       "4                 1               1     1  \n",
       "...             ...             ...   ...  \n",
       "2184              0               0     0  \n",
       "2185              0               0     0  \n",
       "2186              1               1     1  \n",
       "2187              1               1     1  \n",
       "2188              1               1     1  \n",
       "\n",
       "[2189 rows x 7 columns]"
      ]
     },
     "execution_count": 5,
     "metadata": {},
     "output_type": "execute_result"
    }
   ],
   "source": [
    "train_data"
   ]
  },
  {
   "cell_type": "code",
   "execution_count": 6,
   "metadata": {},
   "outputs": [
    {
     "data": {
      "text/html": [
       "<div>\n",
       "<style scoped>\n",
       "    .dataframe tbody tr th:only-of-type {\n",
       "        vertical-align: middle;\n",
       "    }\n",
       "\n",
       "    .dataframe tbody tr th {\n",
       "        vertical-align: top;\n",
       "    }\n",
       "\n",
       "    .dataframe thead th {\n",
       "        text-align: right;\n",
       "    }\n",
       "</style>\n",
       "<table border=\"1\" class=\"dataframe\">\n",
       "  <thead>\n",
       "    <tr style=\"text-align: right;\">\n",
       "      <th></th>\n",
       "      <th>undermine_score</th>\n",
       "      <th>support_score</th>\n",
       "      <th>cp_distance</th>\n",
       "      <th>cop_distance</th>\n",
       "      <th>predict_label</th>\n",
       "      <th>distance_label</th>\n",
       "      <th>gold</th>\n",
       "      <th>Label</th>\n",
       "      <th>claim</th>\n",
       "      <th>perspective</th>\n",
       "      <th>opposite_perspective</th>\n",
       "    </tr>\n",
       "  </thead>\n",
       "  <tbody>\n",
       "    <tr>\n",
       "      <th>0</th>\n",
       "      <td>-4.223587</td>\n",
       "      <td>3.430138</td>\n",
       "      <td>0.020014</td>\n",
       "      <td>0.012879</td>\n",
       "      <td>1</td>\n",
       "      <td>0</td>\n",
       "      <td>1</td>\n",
       "      <td>1</td>\n",
       "      <td>School Day Should Be Extended</td>\n",
       "      <td>Lessons would feel less broken.</td>\n",
       "      <td>Lessons would not feel less broken.</td>\n",
       "    </tr>\n",
       "    <tr>\n",
       "      <th>1</th>\n",
       "      <td>-1.659985</td>\n",
       "      <td>2.563246</td>\n",
       "      <td>0.277413</td>\n",
       "      <td>0.157976</td>\n",
       "      <td>1</td>\n",
       "      <td>0</td>\n",
       "      <td>1</td>\n",
       "      <td>1</td>\n",
       "      <td>School Day Should Be Extended</td>\n",
       "      <td>Less need for homework.</td>\n",
       "      <td>More need for homework.</td>\n",
       "    </tr>\n",
       "    <tr>\n",
       "      <th>2</th>\n",
       "      <td>6.975863</td>\n",
       "      <td>-2.372392</td>\n",
       "      <td>1.920776</td>\n",
       "      <td>1.928768</td>\n",
       "      <td>0</td>\n",
       "      <td>1</td>\n",
       "      <td>1</td>\n",
       "      <td>1</td>\n",
       "      <td>Chess must be at the Olympics</td>\n",
       "      <td>Chess is currently not an Olympic sport, but i...</td>\n",
       "      <td>Chess is currently an Olympic sport, but it sh...</td>\n",
       "    </tr>\n",
       "    <tr>\n",
       "      <th>3</th>\n",
       "      <td>1.812300</td>\n",
       "      <td>-0.927047</td>\n",
       "      <td>1.096693</td>\n",
       "      <td>1.661179</td>\n",
       "      <td>0</td>\n",
       "      <td>1</td>\n",
       "      <td>1</td>\n",
       "      <td>1</td>\n",
       "      <td>Federal States are better than unitary nations</td>\n",
       "      <td>Citizens are better protected in federal states.</td>\n",
       "      <td>Citizens are not better protected in federal s...</td>\n",
       "    </tr>\n",
       "    <tr>\n",
       "      <th>4</th>\n",
       "      <td>2.363664</td>\n",
       "      <td>-1.478531</td>\n",
       "      <td>1.179334</td>\n",
       "      <td>1.422178</td>\n",
       "      <td>0</td>\n",
       "      <td>1</td>\n",
       "      <td>1</td>\n",
       "      <td>1</td>\n",
       "      <td>Federal States are better than unitary nations</td>\n",
       "      <td>Federal states are economically stronger</td>\n",
       "      <td>Federal states are not economically stronger</td>\n",
       "    </tr>\n",
       "    <tr>\n",
       "      <th>...</th>\n",
       "      <td>...</td>\n",
       "      <td>...</td>\n",
       "      <td>...</td>\n",
       "      <td>...</td>\n",
       "      <td>...</td>\n",
       "      <td>...</td>\n",
       "      <td>...</td>\n",
       "      <td>...</td>\n",
       "      <td>...</td>\n",
       "      <td>...</td>\n",
       "      <td>...</td>\n",
       "    </tr>\n",
       "    <tr>\n",
       "      <th>333</th>\n",
       "      <td>-3.776413</td>\n",
       "      <td>2.909049</td>\n",
       "      <td>0.075312</td>\n",
       "      <td>0.017392</td>\n",
       "      <td>1</td>\n",
       "      <td>0</td>\n",
       "      <td>0</td>\n",
       "      <td>0</td>\n",
       "      <td>NATO has succeeded in Afghanistan</td>\n",
       "      <td>the taliban is waiting and likley to regain co...</td>\n",
       "      <td>the taliban is not waiting and likley to regai...</td>\n",
       "    </tr>\n",
       "    <tr>\n",
       "      <th>334</th>\n",
       "      <td>0.627612</td>\n",
       "      <td>-0.557652</td>\n",
       "      <td>0.694943</td>\n",
       "      <td>1.455035</td>\n",
       "      <td>0</td>\n",
       "      <td>1</td>\n",
       "      <td>0</td>\n",
       "      <td>0</td>\n",
       "      <td>Illegal downloaders should be cut off from the...</td>\n",
       "      <td>File-sharing will still happen, despite these ...</td>\n",
       "      <td>File-sharing will not still happen, despite th...</td>\n",
       "    </tr>\n",
       "    <tr>\n",
       "      <th>335</th>\n",
       "      <td>2.762536</td>\n",
       "      <td>-1.856774</td>\n",
       "      <td>0.735328</td>\n",
       "      <td>0.786035</td>\n",
       "      <td>0</td>\n",
       "      <td>1</td>\n",
       "      <td>0</td>\n",
       "      <td>0</td>\n",
       "      <td>Illegal downloaders should be cut off from the...</td>\n",
       "      <td>Will file-sharing stop if downloaders are bann...</td>\n",
       "      <td>will not file-sharing stop if downloaders are...</td>\n",
       "    </tr>\n",
       "    <tr>\n",
       "      <th>336</th>\n",
       "      <td>0.033896</td>\n",
       "      <td>-0.449516</td>\n",
       "      <td>0.755636</td>\n",
       "      <td>1.142089</td>\n",
       "      <td>0</td>\n",
       "      <td>1</td>\n",
       "      <td>1</td>\n",
       "      <td>1</td>\n",
       "      <td>Illegal downloaders should be cut off from the...</td>\n",
       "      <td>Internet access is an enabler of rights not a ...</td>\n",
       "      <td>Internet access is an enabler of rights a righ...</td>\n",
       "    </tr>\n",
       "    <tr>\n",
       "      <th>337</th>\n",
       "      <td>3.317570</td>\n",
       "      <td>-3.755074</td>\n",
       "      <td>1.281456</td>\n",
       "      <td>1.372968</td>\n",
       "      <td>0</td>\n",
       "      <td>1</td>\n",
       "      <td>0</td>\n",
       "      <td>0</td>\n",
       "      <td>Illegal downloaders should be cut off from the...</td>\n",
       "      <td>Human rights are infringed if internet use is ...</td>\n",
       "      <td>Human rights are not infringed if internet use...</td>\n",
       "    </tr>\n",
       "  </tbody>\n",
       "</table>\n",
       "<p>338 rows × 11 columns</p>\n",
       "</div>"
      ],
      "text/plain": [
       "     undermine_score  support_score  cp_distance  cop_distance  predict_label  \\\n",
       "0          -4.223587       3.430138     0.020014      0.012879              1   \n",
       "1          -1.659985       2.563246     0.277413      0.157976              1   \n",
       "2           6.975863      -2.372392     1.920776      1.928768              0   \n",
       "3           1.812300      -0.927047     1.096693      1.661179              0   \n",
       "4           2.363664      -1.478531     1.179334      1.422178              0   \n",
       "..               ...            ...          ...           ...            ...   \n",
       "333        -3.776413       2.909049     0.075312      0.017392              1   \n",
       "334         0.627612      -0.557652     0.694943      1.455035              0   \n",
       "335         2.762536      -1.856774     0.735328      0.786035              0   \n",
       "336         0.033896      -0.449516     0.755636      1.142089              0   \n",
       "337         3.317570      -3.755074     1.281456      1.372968              0   \n",
       "\n",
       "     distance_label  gold  Label  \\\n",
       "0                 0     1      1   \n",
       "1                 0     1      1   \n",
       "2                 1     1      1   \n",
       "3                 1     1      1   \n",
       "4                 1     1      1   \n",
       "..              ...   ...    ...   \n",
       "333               0     0      0   \n",
       "334               1     0      0   \n",
       "335               1     0      0   \n",
       "336               1     1      1   \n",
       "337               1     0      0   \n",
       "\n",
       "                                                 claim  \\\n",
       "0                        School Day Should Be Extended   \n",
       "1                        School Day Should Be Extended   \n",
       "2                        Chess must be at the Olympics   \n",
       "3       Federal States are better than unitary nations   \n",
       "4       Federal States are better than unitary nations   \n",
       "..                                                 ...   \n",
       "333                  NATO has succeeded in Afghanistan   \n",
       "334  Illegal downloaders should be cut off from the...   \n",
       "335  Illegal downloaders should be cut off from the...   \n",
       "336  Illegal downloaders should be cut off from the...   \n",
       "337  Illegal downloaders should be cut off from the...   \n",
       "\n",
       "                                           perspective  \\\n",
       "0                      Lessons would feel less broken.   \n",
       "1                              Less need for homework.   \n",
       "2    Chess is currently not an Olympic sport, but i...   \n",
       "3     Citizens are better protected in federal states.   \n",
       "4             Federal states are economically stronger   \n",
       "..                                                 ...   \n",
       "333  the taliban is waiting and likley to regain co...   \n",
       "334  File-sharing will still happen, despite these ...   \n",
       "335  Will file-sharing stop if downloaders are bann...   \n",
       "336  Internet access is an enabler of rights not a ...   \n",
       "337  Human rights are infringed if internet use is ...   \n",
       "\n",
       "                                  opposite_perspective  \n",
       "0                  Lessons would not feel less broken.  \n",
       "1                              More need for homework.  \n",
       "2    Chess is currently an Olympic sport, but it sh...  \n",
       "3    Citizens are not better protected in federal s...  \n",
       "4         Federal states are not economically stronger  \n",
       "..                                                 ...  \n",
       "333  the taliban is not waiting and likley to regai...  \n",
       "334  File-sharing will not still happen, despite th...  \n",
       "335   will not file-sharing stop if downloaders are...  \n",
       "336  Internet access is an enabler of rights a righ...  \n",
       "337  Human rights are not infringed if internet use...  \n",
       "\n",
       "[338 rows x 11 columns]"
      ]
     },
     "execution_count": 6,
     "metadata": {},
     "output_type": "execute_result"
    }
   ],
   "source": [
    "test_data"
   ]
  },
  {
   "cell_type": "code",
   "execution_count": 7,
   "metadata": {},
   "outputs": [],
   "source": [
    "train_x = train_data.drop(columns=['predict_label',\"distance_label\",'gold'],axis=1)\n",
    "train_y = train_data['gold']"
   ]
  },
  {
   "cell_type": "code",
   "execution_count": 8,
   "metadata": {},
   "outputs": [],
   "source": [
    "test_x = test_data.drop(columns=['gold','predict_label',\"distance_label\",\"Label\", \"claim\",\"perspective\",\"opposite_perspective\"],axis=1)\n",
    "test_y = test_data['gold']"
   ]
  },
  {
   "cell_type": "code",
   "execution_count": 9,
   "metadata": {},
   "outputs": [],
   "source": [
    "from sklearn.preprocessing import StandardScaler\n",
    "sc = StandardScaler()\n",
    "sc.fit(train_x)\n",
    "train_x = sc.transform(train_x)\n",
    "test_x = sc.transform(test_x)"
   ]
  },
  {
   "cell_type": "code",
   "execution_count": 10,
   "metadata": {},
   "outputs": [],
   "source": [
    "from sklearn.model_selection import cross_val_score"
   ]
  },
  {
   "cell_type": "code",
   "execution_count": 11,
   "metadata": {},
   "outputs": [],
   "source": [
    "model = LogisticRegression(solver='liblinear')\n",
    "## lbfgs,liblinear,newton-cg,sag,saga"
   ]
  },
  {
   "cell_type": "code",
   "execution_count": 12,
   "metadata": {},
   "outputs": [
    {
     "name": "stdout",
     "output_type": "stream",
     "text": [
      "[0.001, 0.01, 0.1, 0.5, 1, 5, 10, 50, 100, 500, 1000, 5000, 10000]\n",
      "0.44396327480618497\n",
      "{'C': 0.1, 'penalty': 'l2'}\n",
      "LogisticRegression(C=0.1, class_weight=None, dual=False, fit_intercept=True,\n",
      "                   intercept_scaling=1, l1_ratio=None, max_iter=100,\n",
      "                   multi_class='warn', n_jobs=None, penalty='l2',\n",
      "                   random_state=None, solver='liblinear', tol=0.0001, verbose=0,\n",
      "                   warm_start=False)\n"
     ]
    }
   ],
   "source": [
    "from sklearn.model_selection import GridSearchCV\n",
    "penaltys = ['l1','l2']\n",
    "# Cs = [0.001, 0.01, 0.1,0.5, 1, 5, 10, 50, 100, 500, 1000, 5000, 10000]\n",
    "\n",
    "Cs = [0.001, 0.01, 0.1, 0.5, 1, 5, 10, 50, 100, 500, 1000, 5000, 10000]\n",
    "print(Cs)\n",
    "tuned_parameters = dict(penalty = penaltys, C = Cs)\n",
    " \n",
    "grid= GridSearchCV(model, tuned_parameters,cv=5, scoring='neg_log_loss')\n",
    "grid.fit(train_x,train_y)\n",
    " \n",
    "grid.cv_results_\n",
    " \n",
    "print(-grid.best_score_)\n",
    "print(grid.best_params_)\n",
    "print(grid.best_estimator_)"
   ]
  },
  {
   "cell_type": "code",
   "execution_count": 13,
   "metadata": {},
   "outputs": [
    {
     "data": {
      "text/plain": [
       "LogisticRegression(C=0.1, class_weight=None, dual=False, fit_intercept=True,\n",
       "                   intercept_scaling=1, l1_ratio=None, max_iter=100,\n",
       "                   multi_class='warn', n_jobs=None, penalty='l2',\n",
       "                   random_state=None, solver='liblinear', tol=0.0001, verbose=0,\n",
       "                   warm_start=False)"
      ]
     },
     "execution_count": 13,
     "metadata": {},
     "output_type": "execute_result"
    }
   ],
   "source": [
    "model = grid.best_estimator_\n",
    "model.fit(train_x,train_y)"
   ]
  },
  {
   "cell_type": "code",
   "execution_count": 14,
   "metadata": {},
   "outputs": [
    {
     "name": "stdout",
     "output_type": "stream",
     "text": [
      "Coefficient of model : [[-0.76649112  0.60163997 -0.29782019  0.20366811]]\n"
     ]
    }
   ],
   "source": [
    "print('Coefficient of model :', model.coef_)"
   ]
  },
  {
   "cell_type": "code",
   "execution_count": 15,
   "metadata": {},
   "outputs": [
    {
     "name": "stdout",
     "output_type": "stream",
     "text": [
      "Intercept of model [0.06911548]\n"
     ]
    }
   ],
   "source": [
    "print('Intercept of model',model.intercept_)"
   ]
  },
  {
   "cell_type": "code",
   "execution_count": 16,
   "metadata": {},
   "outputs": [],
   "source": [
    "predict_train = model.predict(train_x)"
   ]
  },
  {
   "cell_type": "code",
   "execution_count": 17,
   "metadata": {},
   "outputs": [],
   "source": [
    "# accuracy_train = accuracy_score(train_y,predict_train)\n",
    "# print('accuracy_score on train dataset : ', accuracy_train)"
   ]
  },
  {
   "cell_type": "code",
   "execution_count": 18,
   "metadata": {},
   "outputs": [],
   "source": [
    "# predict_test = model.predict(test_x)\n",
    "# accuracy_test = accuracy_score(test_y,predict_test)\n",
    "# print('accuracy_score on test dataset : ', accuracy_test)"
   ]
  },
  {
   "cell_type": "code",
   "execution_count": 20,
   "metadata": {},
   "outputs": [
    {
     "name": "stdout",
     "output_type": "stream",
     "text": [
      "0.6140350877192982\n"
     ]
    }
   ],
   "source": [
    "predict_test = model.predict(test_x)\n",
    "f1 = f1_score(test_y,predict_test)\n",
    "print(f1)"
   ]
  },
  {
   "cell_type": "code",
   "execution_count": 21,
   "metadata": {},
   "outputs": [
    {
     "data": {
      "text/plain": [
       "0.6094674556213018"
      ]
     },
     "execution_count": 21,
     "metadata": {},
     "output_type": "execute_result"
    }
   ],
   "source": [
    "accuracy_score(test_y,predict_test)"
   ]
  },
  {
   "cell_type": "code",
   "execution_count": null,
   "metadata": {},
   "outputs": [],
   "source": []
  }
 ],
 "metadata": {
  "kernelspec": {
   "display_name": "TensorFlow-GPU",
   "language": "python",
   "name": "tf-gpu"
  },
  "language_info": {
   "codemirror_mode": {
    "name": "ipython",
    "version": 3
   },
   "file_extension": ".py",
   "mimetype": "text/x-python",
   "name": "python",
   "nbconvert_exporter": "python",
   "pygments_lexer": "ipython3",
   "version": "3.7.6"
  }
 },
 "nbformat": 4,
 "nbformat_minor": 2
}
