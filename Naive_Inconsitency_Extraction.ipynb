{
 "cells": [
  {
   "cell_type": "code",
   "execution_count": 1,
   "metadata": {},
   "outputs": [],
   "source": [
    "import pandas as pd"
   ]
  },
  {
   "cell_type": "code",
   "execution_count": 2,
   "metadata": {},
   "outputs": [],
   "source": [
    "base_ori = pd.read_csv(\"./Evaluation/bert_dummy_output/onnew_neg_bert_base_raw_score.csv\")\n",
    "stancy_ori = pd.read_csv(\"./Evaluation/bert_dummy_output/onnew_neg_bert_cons_epoch5_raw_score.csv\")\n",
    "sia_ori = pd.read_csv(\"./Evaluation/bert_dummy_output/new_neg_bert_sia_cos_bs24_lr2e_5_epoch30_raw_score.csv\")"
   ]
  },
  {
   "cell_type": "code",
   "execution_count": 3,
   "metadata": {},
   "outputs": [],
   "source": [
    "base_opp = pd.read_csv(\"./Evaluation/antonym_output/on_naive_subset_neg_opposite_perspectives_bert_base_raw_score.csv\")\n",
    "stancy_opp = pd.read_csv(\"./Evaluation/antonym_output/on_naive_subset_neg_opposite_perspectives_bert_cons_epoch5_raw_score.csv\")\n",
    "sia_opp = pd.read_csv(\"./Evaluation/antonym_output/on_naive_subset_neg_opposite_perspectives_bert_sia_cos_bs24_lr2e_5_epoch30_raw_score.csv\")"
   ]
  },
  {
   "cell_type": "code",
   "execution_count": 4,
   "metadata": {},
   "outputs": [],
   "source": [
    "base_ori.rename(columns={'undermine_score':'undermine_ori','support_score':'support_ori', 'predict_label':'predict_ori', 'gold':'gold_ori' },inplace=True)\n",
    "stancy_ori.rename(columns={'undermine_score':'undermine_ori','support_score':'support_ori', 'predict_label':'predict_ori', 'gold':'gold_ori' },inplace=True)\n",
    "sia_ori.rename(columns={'undermine_score':'undermine_ori','support_score':'support_ori', 'predict_label':'predict_ori', 'gold':'gold_ori' },inplace=True)"
   ]
  },
  {
   "cell_type": "code",
   "execution_count": 5,
   "metadata": {},
   "outputs": [
    {
     "data": {
      "text/html": [
       "<div>\n",
       "<style scoped>\n",
       "    .dataframe tbody tr th:only-of-type {\n",
       "        vertical-align: middle;\n",
       "    }\n",
       "\n",
       "    .dataframe tbody tr th {\n",
       "        vertical-align: top;\n",
       "    }\n",
       "\n",
       "    .dataframe thead th {\n",
       "        text-align: right;\n",
       "    }\n",
       "</style>\n",
       "<table border=\"1\" class=\"dataframe\">\n",
       "  <thead>\n",
       "    <tr style=\"text-align: right;\">\n",
       "      <th></th>\n",
       "      <th>undermine_ori</th>\n",
       "      <th>support_ori</th>\n",
       "      <th>predict_ori</th>\n",
       "      <th>gold_ori</th>\n",
       "    </tr>\n",
       "  </thead>\n",
       "  <tbody>\n",
       "    <tr>\n",
       "      <th>0</th>\n",
       "      <td>-1.104498</td>\n",
       "      <td>1.399804</td>\n",
       "      <td>1</td>\n",
       "      <td>1</td>\n",
       "    </tr>\n",
       "    <tr>\n",
       "      <th>1</th>\n",
       "      <td>-1.272779</td>\n",
       "      <td>1.762252</td>\n",
       "      <td>1</td>\n",
       "      <td>0</td>\n",
       "    </tr>\n",
       "    <tr>\n",
       "      <th>2</th>\n",
       "      <td>-3.644970</td>\n",
       "      <td>4.152650</td>\n",
       "      <td>1</td>\n",
       "      <td>1</td>\n",
       "    </tr>\n",
       "    <tr>\n",
       "      <th>3</th>\n",
       "      <td>-2.216542</td>\n",
       "      <td>2.491149</td>\n",
       "      <td>1</td>\n",
       "      <td>1</td>\n",
       "    </tr>\n",
       "    <tr>\n",
       "      <th>4</th>\n",
       "      <td>-1.375447</td>\n",
       "      <td>1.548147</td>\n",
       "      <td>1</td>\n",
       "      <td>1</td>\n",
       "    </tr>\n",
       "    <tr>\n",
       "      <th>...</th>\n",
       "      <td>...</td>\n",
       "      <td>...</td>\n",
       "      <td>...</td>\n",
       "      <td>...</td>\n",
       "    </tr>\n",
       "    <tr>\n",
       "      <th>2397</th>\n",
       "      <td>-3.182455</td>\n",
       "      <td>3.654049</td>\n",
       "      <td>1</td>\n",
       "      <td>0</td>\n",
       "    </tr>\n",
       "    <tr>\n",
       "      <th>2398</th>\n",
       "      <td>-3.327009</td>\n",
       "      <td>3.956924</td>\n",
       "      <td>1</td>\n",
       "      <td>0</td>\n",
       "    </tr>\n",
       "    <tr>\n",
       "      <th>2399</th>\n",
       "      <td>2.547285</td>\n",
       "      <td>-2.342756</td>\n",
       "      <td>0</td>\n",
       "      <td>1</td>\n",
       "    </tr>\n",
       "    <tr>\n",
       "      <th>2400</th>\n",
       "      <td>4.318411</td>\n",
       "      <td>-4.532940</td>\n",
       "      <td>0</td>\n",
       "      <td>1</td>\n",
       "    </tr>\n",
       "    <tr>\n",
       "      <th>2401</th>\n",
       "      <td>3.814458</td>\n",
       "      <td>-3.830362</td>\n",
       "      <td>0</td>\n",
       "      <td>1</td>\n",
       "    </tr>\n",
       "  </tbody>\n",
       "</table>\n",
       "<p>2402 rows × 4 columns</p>\n",
       "</div>"
      ],
      "text/plain": [
       "      undermine_ori  support_ori  predict_ori  gold_ori\n",
       "0         -1.104498     1.399804            1         1\n",
       "1         -1.272779     1.762252            1         0\n",
       "2         -3.644970     4.152650            1         1\n",
       "3         -2.216542     2.491149            1         1\n",
       "4         -1.375447     1.548147            1         1\n",
       "...             ...          ...          ...       ...\n",
       "2397      -3.182455     3.654049            1         0\n",
       "2398      -3.327009     3.956924            1         0\n",
       "2399       2.547285    -2.342756            0         1\n",
       "2400       4.318411    -4.532940            0         1\n",
       "2401       3.814458    -3.830362            0         1\n",
       "\n",
       "[2402 rows x 4 columns]"
      ]
     },
     "execution_count": 5,
     "metadata": {},
     "output_type": "execute_result"
    }
   ],
   "source": [
    "base_ori"
   ]
  },
  {
   "cell_type": "code",
   "execution_count": 6,
   "metadata": {},
   "outputs": [],
   "source": [
    "base_opp.rename(columns={'undermine_score':'undermine_opposite','support_score':'support_opposite', 'predict_label':'predict_opposite', 'gold':'gold_opposite' },inplace=True)\n",
    "stancy_opp.rename(columns={'undermine_score':'undermine_opposite','support_score':'support_opposite', 'predict_label':'predict_opposite', 'gold':'gold_opposite' },inplace=True)\n",
    "sia_opp.rename(columns={'undermine_score':'undermine_opposite','support_score':'support_opposite', 'predict_label':'predict_opposite', 'gold':'gold_opposite' },inplace=True)"
   ]
  },
  {
   "cell_type": "code",
   "execution_count": 7,
   "metadata": {},
   "outputs": [
    {
     "data": {
      "text/html": [
       "<div>\n",
       "<style scoped>\n",
       "    .dataframe tbody tr th:only-of-type {\n",
       "        vertical-align: middle;\n",
       "    }\n",
       "\n",
       "    .dataframe tbody tr th {\n",
       "        vertical-align: top;\n",
       "    }\n",
       "\n",
       "    .dataframe thead th {\n",
       "        text-align: right;\n",
       "    }\n",
       "</style>\n",
       "<table border=\"1\" class=\"dataframe\">\n",
       "  <thead>\n",
       "    <tr style=\"text-align: right;\">\n",
       "      <th></th>\n",
       "      <th>undermine_opposite</th>\n",
       "      <th>support_opposite</th>\n",
       "      <th>predict_opposite</th>\n",
       "      <th>gold_opposite</th>\n",
       "    </tr>\n",
       "  </thead>\n",
       "  <tbody>\n",
       "    <tr>\n",
       "      <th>0</th>\n",
       "      <td>-2.074313</td>\n",
       "      <td>2.212771</td>\n",
       "      <td>1</td>\n",
       "      <td>0</td>\n",
       "    </tr>\n",
       "    <tr>\n",
       "      <th>1</th>\n",
       "      <td>0.413289</td>\n",
       "      <td>-0.049956</td>\n",
       "      <td>0</td>\n",
       "      <td>1</td>\n",
       "    </tr>\n",
       "    <tr>\n",
       "      <th>2</th>\n",
       "      <td>0.252711</td>\n",
       "      <td>0.274724</td>\n",
       "      <td>1</td>\n",
       "      <td>0</td>\n",
       "    </tr>\n",
       "    <tr>\n",
       "      <th>3</th>\n",
       "      <td>1.079693</td>\n",
       "      <td>-0.641304</td>\n",
       "      <td>0</td>\n",
       "      <td>0</td>\n",
       "    </tr>\n",
       "    <tr>\n",
       "      <th>4</th>\n",
       "      <td>1.488917</td>\n",
       "      <td>-0.957619</td>\n",
       "      <td>0</td>\n",
       "      <td>0</td>\n",
       "    </tr>\n",
       "    <tr>\n",
       "      <th>...</th>\n",
       "      <td>...</td>\n",
       "      <td>...</td>\n",
       "      <td>...</td>\n",
       "      <td>...</td>\n",
       "    </tr>\n",
       "    <tr>\n",
       "      <th>2397</th>\n",
       "      <td>-0.025793</td>\n",
       "      <td>0.168835</td>\n",
       "      <td>1</td>\n",
       "      <td>1</td>\n",
       "    </tr>\n",
       "    <tr>\n",
       "      <th>2398</th>\n",
       "      <td>-0.091303</td>\n",
       "      <td>-0.053185</td>\n",
       "      <td>1</td>\n",
       "      <td>1</td>\n",
       "    </tr>\n",
       "    <tr>\n",
       "      <th>2399</th>\n",
       "      <td>0.938324</td>\n",
       "      <td>-1.254323</td>\n",
       "      <td>0</td>\n",
       "      <td>0</td>\n",
       "    </tr>\n",
       "    <tr>\n",
       "      <th>2400</th>\n",
       "      <td>2.485508</td>\n",
       "      <td>-2.310395</td>\n",
       "      <td>0</td>\n",
       "      <td>0</td>\n",
       "    </tr>\n",
       "    <tr>\n",
       "      <th>2401</th>\n",
       "      <td>0.645631</td>\n",
       "      <td>-0.612771</td>\n",
       "      <td>0</td>\n",
       "      <td>0</td>\n",
       "    </tr>\n",
       "  </tbody>\n",
       "</table>\n",
       "<p>2402 rows × 4 columns</p>\n",
       "</div>"
      ],
      "text/plain": [
       "      undermine_opposite  support_opposite  predict_opposite  gold_opposite\n",
       "0              -2.074313          2.212771                 1              0\n",
       "1               0.413289         -0.049956                 0              1\n",
       "2               0.252711          0.274724                 1              0\n",
       "3               1.079693         -0.641304                 0              0\n",
       "4               1.488917         -0.957619                 0              0\n",
       "...                  ...               ...               ...            ...\n",
       "2397           -0.025793          0.168835                 1              1\n",
       "2398           -0.091303         -0.053185                 1              1\n",
       "2399            0.938324         -1.254323                 0              0\n",
       "2400            2.485508         -2.310395                 0              0\n",
       "2401            0.645631         -0.612771                 0              0\n",
       "\n",
       "[2402 rows x 4 columns]"
      ]
     },
     "execution_count": 7,
     "metadata": {},
     "output_type": "execute_result"
    }
   ],
   "source": [
    "base_opp"
   ]
  },
  {
   "cell_type": "code",
   "execution_count": 8,
   "metadata": {},
   "outputs": [],
   "source": [
    "base_comb = pd.concat([base_ori,base_opp],axis=1)\n",
    "stancy_comb = pd.concat([stancy_ori,stancy_opp],axis=1)\n",
    "sia_comb = pd.concat([sia_ori,sia_opp],axis=1)"
   ]
  },
  {
   "cell_type": "code",
   "execution_count": 9,
   "metadata": {},
   "outputs": [
    {
     "data": {
      "text/html": [
       "<div>\n",
       "<style scoped>\n",
       "    .dataframe tbody tr th:only-of-type {\n",
       "        vertical-align: middle;\n",
       "    }\n",
       "\n",
       "    .dataframe tbody tr th {\n",
       "        vertical-align: top;\n",
       "    }\n",
       "\n",
       "    .dataframe thead th {\n",
       "        text-align: right;\n",
       "    }\n",
       "</style>\n",
       "<table border=\"1\" class=\"dataframe\">\n",
       "  <thead>\n",
       "    <tr style=\"text-align: right;\">\n",
       "      <th></th>\n",
       "      <th>undermine_ori</th>\n",
       "      <th>support_ori</th>\n",
       "      <th>predict_ori</th>\n",
       "      <th>gold_ori</th>\n",
       "      <th>undermine_opposite</th>\n",
       "      <th>support_opposite</th>\n",
       "      <th>predict_opposite</th>\n",
       "      <th>gold_opposite</th>\n",
       "    </tr>\n",
       "  </thead>\n",
       "  <tbody>\n",
       "    <tr>\n",
       "      <th>0</th>\n",
       "      <td>-5.659800</td>\n",
       "      <td>8.410093</td>\n",
       "      <td>1</td>\n",
       "      <td>1</td>\n",
       "      <td>13.140916</td>\n",
       "      <td>-13.507920</td>\n",
       "      <td>0</td>\n",
       "      <td>0</td>\n",
       "    </tr>\n",
       "    <tr>\n",
       "      <th>1</th>\n",
       "      <td>6.123189</td>\n",
       "      <td>-4.846788</td>\n",
       "      <td>0</td>\n",
       "      <td>0</td>\n",
       "      <td>10.095701</td>\n",
       "      <td>-9.816476</td>\n",
       "      <td>0</td>\n",
       "      <td>1</td>\n",
       "    </tr>\n",
       "    <tr>\n",
       "      <th>2</th>\n",
       "      <td>2.609766</td>\n",
       "      <td>-1.099538</td>\n",
       "      <td>0</td>\n",
       "      <td>1</td>\n",
       "      <td>14.201774</td>\n",
       "      <td>-14.631515</td>\n",
       "      <td>0</td>\n",
       "      <td>0</td>\n",
       "    </tr>\n",
       "    <tr>\n",
       "      <th>3</th>\n",
       "      <td>5.133741</td>\n",
       "      <td>-3.710541</td>\n",
       "      <td>0</td>\n",
       "      <td>1</td>\n",
       "      <td>11.538156</td>\n",
       "      <td>-11.703218</td>\n",
       "      <td>0</td>\n",
       "      <td>0</td>\n",
       "    </tr>\n",
       "    <tr>\n",
       "      <th>4</th>\n",
       "      <td>-3.736549</td>\n",
       "      <td>6.248719</td>\n",
       "      <td>1</td>\n",
       "      <td>1</td>\n",
       "      <td>9.237697</td>\n",
       "      <td>-8.742291</td>\n",
       "      <td>0</td>\n",
       "      <td>0</td>\n",
       "    </tr>\n",
       "    <tr>\n",
       "      <th>...</th>\n",
       "      <td>...</td>\n",
       "      <td>...</td>\n",
       "      <td>...</td>\n",
       "      <td>...</td>\n",
       "      <td>...</td>\n",
       "      <td>...</td>\n",
       "      <td>...</td>\n",
       "      <td>...</td>\n",
       "    </tr>\n",
       "    <tr>\n",
       "      <th>2397</th>\n",
       "      <td>1.204155</td>\n",
       "      <td>-1.608856</td>\n",
       "      <td>0</td>\n",
       "      <td>0</td>\n",
       "      <td>-0.821013</td>\n",
       "      <td>-0.924060</td>\n",
       "      <td>0</td>\n",
       "      <td>1</td>\n",
       "    </tr>\n",
       "    <tr>\n",
       "      <th>2398</th>\n",
       "      <td>1.730360</td>\n",
       "      <td>-2.154261</td>\n",
       "      <td>0</td>\n",
       "      <td>0</td>\n",
       "      <td>1.617626</td>\n",
       "      <td>-3.902740</td>\n",
       "      <td>0</td>\n",
       "      <td>1</td>\n",
       "    </tr>\n",
       "    <tr>\n",
       "      <th>2399</th>\n",
       "      <td>-3.720044</td>\n",
       "      <td>2.957295</td>\n",
       "      <td>1</td>\n",
       "      <td>1</td>\n",
       "      <td>-1.242439</td>\n",
       "      <td>-0.206510</td>\n",
       "      <td>1</td>\n",
       "      <td>0</td>\n",
       "    </tr>\n",
       "    <tr>\n",
       "      <th>2400</th>\n",
       "      <td>-3.745683</td>\n",
       "      <td>2.977419</td>\n",
       "      <td>1</td>\n",
       "      <td>1</td>\n",
       "      <td>-2.125442</td>\n",
       "      <td>0.907753</td>\n",
       "      <td>1</td>\n",
       "      <td>0</td>\n",
       "    </tr>\n",
       "    <tr>\n",
       "      <th>2401</th>\n",
       "      <td>-2.807508</td>\n",
       "      <td>1.740879</td>\n",
       "      <td>1</td>\n",
       "      <td>1</td>\n",
       "      <td>1.228364</td>\n",
       "      <td>-3.340360</td>\n",
       "      <td>0</td>\n",
       "      <td>0</td>\n",
       "    </tr>\n",
       "  </tbody>\n",
       "</table>\n",
       "<p>2402 rows × 8 columns</p>\n",
       "</div>"
      ],
      "text/plain": [
       "      undermine_ori  support_ori  predict_ori  gold_ori  undermine_opposite  \\\n",
       "0         -5.659800     8.410093            1         1           13.140916   \n",
       "1          6.123189    -4.846788            0         0           10.095701   \n",
       "2          2.609766    -1.099538            0         1           14.201774   \n",
       "3          5.133741    -3.710541            0         1           11.538156   \n",
       "4         -3.736549     6.248719            1         1            9.237697   \n",
       "...             ...          ...          ...       ...                 ...   \n",
       "2397       1.204155    -1.608856            0         0           -0.821013   \n",
       "2398       1.730360    -2.154261            0         0            1.617626   \n",
       "2399      -3.720044     2.957295            1         1           -1.242439   \n",
       "2400      -3.745683     2.977419            1         1           -2.125442   \n",
       "2401      -2.807508     1.740879            1         1            1.228364   \n",
       "\n",
       "      support_opposite  predict_opposite  gold_opposite  \n",
       "0           -13.507920                 0              0  \n",
       "1            -9.816476                 0              1  \n",
       "2           -14.631515                 0              0  \n",
       "3           -11.703218                 0              0  \n",
       "4            -8.742291                 0              0  \n",
       "...                ...               ...            ...  \n",
       "2397         -0.924060                 0              1  \n",
       "2398         -3.902740                 0              1  \n",
       "2399         -0.206510                 1              0  \n",
       "2400          0.907753                 1              0  \n",
       "2401         -3.340360                 0              0  \n",
       "\n",
       "[2402 rows x 8 columns]"
      ]
     },
     "execution_count": 9,
     "metadata": {},
     "output_type": "execute_result"
    }
   ],
   "source": [
    "sia_comb"
   ]
  },
  {
   "cell_type": "code",
   "execution_count": 10,
   "metadata": {},
   "outputs": [],
   "source": [
    "base_stable = base_comb[base_comb.predict_ori!=base_comb.predict_opposite]\n",
    "stancy_stable = stancy_comb[stancy_comb.predict_ori!=stancy_comb.predict_opposite]\n",
    "sia_stable = sia_comb[sia_comb.predict_ori!=sia_comb.predict_opposite]"
   ]
  },
  {
   "cell_type": "code",
   "execution_count": 33,
   "metadata": {},
   "outputs": [
    {
     "data": {
      "text/html": [
       "<div>\n",
       "<style scoped>\n",
       "    .dataframe tbody tr th:only-of-type {\n",
       "        vertical-align: middle;\n",
       "    }\n",
       "\n",
       "    .dataframe tbody tr th {\n",
       "        vertical-align: top;\n",
       "    }\n",
       "\n",
       "    .dataframe thead th {\n",
       "        text-align: right;\n",
       "    }\n",
       "</style>\n",
       "<table border=\"1\" class=\"dataframe\">\n",
       "  <thead>\n",
       "    <tr style=\"text-align: right;\">\n",
       "      <th></th>\n",
       "      <th>undermine_ori</th>\n",
       "      <th>support_ori</th>\n",
       "      <th>predict_ori</th>\n",
       "      <th>gold_ori</th>\n",
       "      <th>undermine_opposite</th>\n",
       "      <th>support_opposite</th>\n",
       "      <th>predict_opposite</th>\n",
       "      <th>gold_opposite</th>\n",
       "    </tr>\n",
       "  </thead>\n",
       "  <tbody>\n",
       "    <tr>\n",
       "      <th>0</th>\n",
       "      <td>-5.659800</td>\n",
       "      <td>8.410093</td>\n",
       "      <td>1</td>\n",
       "      <td>1</td>\n",
       "      <td>13.140916</td>\n",
       "      <td>-13.507920</td>\n",
       "      <td>0</td>\n",
       "      <td>0</td>\n",
       "    </tr>\n",
       "    <tr>\n",
       "      <th>4</th>\n",
       "      <td>-3.736549</td>\n",
       "      <td>6.248719</td>\n",
       "      <td>1</td>\n",
       "      <td>1</td>\n",
       "      <td>9.237697</td>\n",
       "      <td>-8.742291</td>\n",
       "      <td>0</td>\n",
       "      <td>0</td>\n",
       "    </tr>\n",
       "    <tr>\n",
       "      <th>5</th>\n",
       "      <td>-5.648978</td>\n",
       "      <td>8.431259</td>\n",
       "      <td>1</td>\n",
       "      <td>1</td>\n",
       "      <td>13.460704</td>\n",
       "      <td>-13.840715</td>\n",
       "      <td>0</td>\n",
       "      <td>0</td>\n",
       "    </tr>\n",
       "    <tr>\n",
       "      <th>6</th>\n",
       "      <td>-5.597363</td>\n",
       "      <td>8.379188</td>\n",
       "      <td>1</td>\n",
       "      <td>1</td>\n",
       "      <td>13.705110</td>\n",
       "      <td>-14.088714</td>\n",
       "      <td>0</td>\n",
       "      <td>0</td>\n",
       "    </tr>\n",
       "    <tr>\n",
       "      <th>7</th>\n",
       "      <td>-5.678000</td>\n",
       "      <td>8.468699</td>\n",
       "      <td>1</td>\n",
       "      <td>1</td>\n",
       "      <td>11.880168</td>\n",
       "      <td>-12.079063</td>\n",
       "      <td>0</td>\n",
       "      <td>0</td>\n",
       "    </tr>\n",
       "    <tr>\n",
       "      <th>...</th>\n",
       "      <td>...</td>\n",
       "      <td>...</td>\n",
       "      <td>...</td>\n",
       "      <td>...</td>\n",
       "      <td>...</td>\n",
       "      <td>...</td>\n",
       "      <td>...</td>\n",
       "      <td>...</td>\n",
       "    </tr>\n",
       "    <tr>\n",
       "      <th>2385</th>\n",
       "      <td>-2.679222</td>\n",
       "      <td>1.606339</td>\n",
       "      <td>1</td>\n",
       "      <td>1</td>\n",
       "      <td>3.862987</td>\n",
       "      <td>-6.379137</td>\n",
       "      <td>0</td>\n",
       "      <td>0</td>\n",
       "    </tr>\n",
       "    <tr>\n",
       "      <th>2386</th>\n",
       "      <td>-3.325146</td>\n",
       "      <td>2.376340</td>\n",
       "      <td>1</td>\n",
       "      <td>1</td>\n",
       "      <td>3.834683</td>\n",
       "      <td>-6.369979</td>\n",
       "      <td>0</td>\n",
       "      <td>0</td>\n",
       "    </tr>\n",
       "    <tr>\n",
       "      <th>2390</th>\n",
       "      <td>-2.329961</td>\n",
       "      <td>1.127138</td>\n",
       "      <td>1</td>\n",
       "      <td>1</td>\n",
       "      <td>-0.342104</td>\n",
       "      <td>-1.362653</td>\n",
       "      <td>0</td>\n",
       "      <td>0</td>\n",
       "    </tr>\n",
       "    <tr>\n",
       "      <th>2393</th>\n",
       "      <td>1.849103</td>\n",
       "      <td>-2.252558</td>\n",
       "      <td>0</td>\n",
       "      <td>0</td>\n",
       "      <td>-2.216832</td>\n",
       "      <td>0.952557</td>\n",
       "      <td>1</td>\n",
       "      <td>1</td>\n",
       "    </tr>\n",
       "    <tr>\n",
       "      <th>2401</th>\n",
       "      <td>-2.807508</td>\n",
       "      <td>1.740879</td>\n",
       "      <td>1</td>\n",
       "      <td>1</td>\n",
       "      <td>1.228364</td>\n",
       "      <td>-3.340360</td>\n",
       "      <td>0</td>\n",
       "      <td>0</td>\n",
       "    </tr>\n",
       "  </tbody>\n",
       "</table>\n",
       "<p>1130 rows × 8 columns</p>\n",
       "</div>"
      ],
      "text/plain": [
       "      undermine_ori  support_ori  predict_ori  gold_ori  undermine_opposite  \\\n",
       "0         -5.659800     8.410093            1         1           13.140916   \n",
       "4         -3.736549     6.248719            1         1            9.237697   \n",
       "5         -5.648978     8.431259            1         1           13.460704   \n",
       "6         -5.597363     8.379188            1         1           13.705110   \n",
       "7         -5.678000     8.468699            1         1           11.880168   \n",
       "...             ...          ...          ...       ...                 ...   \n",
       "2385      -2.679222     1.606339            1         1            3.862987   \n",
       "2386      -3.325146     2.376340            1         1            3.834683   \n",
       "2390      -2.329961     1.127138            1         1           -0.342104   \n",
       "2393       1.849103    -2.252558            0         0           -2.216832   \n",
       "2401      -2.807508     1.740879            1         1            1.228364   \n",
       "\n",
       "      support_opposite  predict_opposite  gold_opposite  \n",
       "0           -13.507920                 0              0  \n",
       "4            -8.742291                 0              0  \n",
       "5           -13.840715                 0              0  \n",
       "6           -14.088714                 0              0  \n",
       "7           -12.079063                 0              0  \n",
       "...                ...               ...            ...  \n",
       "2385         -6.379137                 0              0  \n",
       "2386         -6.369979                 0              0  \n",
       "2390         -1.362653                 0              0  \n",
       "2393          0.952557                 1              1  \n",
       "2401         -3.340360                 0              0  \n",
       "\n",
       "[1130 rows x 8 columns]"
      ]
     },
     "execution_count": 33,
     "metadata": {},
     "output_type": "execute_result"
    }
   ],
   "source": [
    "sia_stable"
   ]
  },
  {
   "cell_type": "code",
   "execution_count": 12,
   "metadata": {},
   "outputs": [],
   "source": [
    "from sklearn.metrics import f1_score,precision_score,recall_score"
   ]
  },
  {
   "cell_type": "code",
   "execution_count": 13,
   "metadata": {},
   "outputs": [
    {
     "data": {
      "text/plain": [
       "0.6997319034852547"
      ]
     },
     "execution_count": 13,
     "metadata": {},
     "output_type": "execute_result"
    }
   ],
   "source": [
    "precision_score(base_stable.gold_ori,base_stable.predict_ori)"
   ]
  },
  {
   "cell_type": "code",
   "execution_count": 14,
   "metadata": {},
   "outputs": [
    {
     "data": {
      "text/plain": [
       "0.8365384615384616"
      ]
     },
     "execution_count": 14,
     "metadata": {},
     "output_type": "execute_result"
    }
   ],
   "source": [
    "recall_score(base_stable.gold_ori,base_stable.predict_ori)"
   ]
  },
  {
   "cell_type": "code",
   "execution_count": 15,
   "metadata": {},
   "outputs": [
    {
     "data": {
      "text/plain": [
       "0.7620437956204381"
      ]
     },
     "execution_count": 15,
     "metadata": {},
     "output_type": "execute_result"
    }
   ],
   "source": [
    "# f1 of stable cases\n",
    "f1_score(base_stable.gold_ori,base_stable.predict_ori)"
   ]
  },
  {
   "cell_type": "code",
   "execution_count": 16,
   "metadata": {},
   "outputs": [
    {
     "data": {
      "text/plain": [
       "0.7020408163265306"
      ]
     },
     "execution_count": 16,
     "metadata": {},
     "output_type": "execute_result"
    }
   ],
   "source": [
    "# f1 of the whole subset\n",
    "f1_score(base_comb.gold_ori,base_comb.predict_ori)"
   ]
  },
  {
   "cell_type": "code",
   "execution_count": 17,
   "metadata": {},
   "outputs": [
    {
     "data": {
      "text/plain": [
       "0.348"
      ]
     },
     "execution_count": 17,
     "metadata": {},
     "output_type": "execute_result"
    }
   ],
   "source": [
    "f1_score(base_stable.gold_opposite,base_stable.predict_opposite)"
   ]
  },
  {
   "cell_type": "code",
   "execution_count": 18,
   "metadata": {},
   "outputs": [
    {
     "data": {
      "text/plain": [
       "0.21922428330522764"
      ]
     },
     "execution_count": 18,
     "metadata": {},
     "output_type": "execute_result"
    }
   ],
   "source": [
    "f1_score(base_comb.gold_opposite,base_comb.predict_opposite)"
   ]
  },
  {
   "cell_type": "code",
   "execution_count": null,
   "metadata": {},
   "outputs": [],
   "source": []
  },
  {
   "cell_type": "code",
   "execution_count": 19,
   "metadata": {},
   "outputs": [
    {
     "data": {
      "text/plain": [
       "0.7570552147239263"
      ]
     },
     "execution_count": 19,
     "metadata": {},
     "output_type": "execute_result"
    }
   ],
   "source": [
    "# precision_score(stancy_stable.gold_ori,stancy_stable.predict_ori)"
   ]
  },
  {
   "cell_type": "code",
   "execution_count": 20,
   "metadata": {},
   "outputs": [
    {
     "data": {
      "text/plain": [
       "0.8776671408250356"
      ]
     },
     "execution_count": 20,
     "metadata": {},
     "output_type": "execute_result"
    }
   ],
   "source": [
    "# recall_score(stancy_stable.gold_ori,stancy_stable.predict_ori)"
   ]
  },
  {
   "cell_type": "code",
   "execution_count": 21,
   "metadata": {},
   "outputs": [
    {
     "data": {
      "text/plain": [
       "0.8129117259552042"
      ]
     },
     "execution_count": 21,
     "metadata": {},
     "output_type": "execute_result"
    }
   ],
   "source": [
    "# f1 of stable cases\n",
    "f1_score(stancy_stable.gold_ori,stancy_stable.predict_ori)"
   ]
  },
  {
   "cell_type": "code",
   "execution_count": 22,
   "metadata": {},
   "outputs": [
    {
     "data": {
      "text/plain": [
       "0.7572347266881029"
      ]
     },
     "execution_count": 22,
     "metadata": {},
     "output_type": "execute_result"
    }
   ],
   "source": [
    "# f1 of the whole subset\n",
    "f1_score(stancy_comb.gold_ori,stancy_comb.predict_ori)"
   ]
  },
  {
   "cell_type": "code",
   "execution_count": 23,
   "metadata": {},
   "outputs": [
    {
     "data": {
      "text/plain": [
       "0.33953488372093027"
      ]
     },
     "execution_count": 23,
     "metadata": {},
     "output_type": "execute_result"
    }
   ],
   "source": [
    "f1_score(stancy_stable.gold_opposite,stancy_stable.predict_opposite)"
   ]
  },
  {
   "cell_type": "code",
   "execution_count": 24,
   "metadata": {},
   "outputs": [
    {
     "data": {
      "text/plain": [
       "0.18975552968568102"
      ]
     },
     "execution_count": 24,
     "metadata": {},
     "output_type": "execute_result"
    }
   ],
   "source": [
    "f1_score(stancy_comb.gold_opposite,stancy_comb.predict_opposite)"
   ]
  },
  {
   "cell_type": "code",
   "execution_count": null,
   "metadata": {},
   "outputs": [],
   "source": []
  },
  {
   "cell_type": "code",
   "execution_count": 25,
   "metadata": {},
   "outputs": [
    {
     "data": {
      "text/plain": [
       "0.7986247544204322"
      ]
     },
     "execution_count": 25,
     "metadata": {},
     "output_type": "execute_result"
    }
   ],
   "source": [
    "precision_score(sia_stable.gold_ori,sia_stable.predict_ori)"
   ]
  },
  {
   "cell_type": "code",
   "execution_count": 26,
   "metadata": {},
   "outputs": [
    {
     "data": {
      "text/plain": [
       "0.9632701421800948"
      ]
     },
     "execution_count": 26,
     "metadata": {},
     "output_type": "execute_result"
    }
   ],
   "source": [
    "recall_score(sia_stable.gold_ori,sia_stable.predict_ori)"
   ]
  },
  {
   "cell_type": "code",
   "execution_count": 27,
   "metadata": {},
   "outputs": [
    {
     "data": {
      "text/plain": [
       "0.8732545649838883"
      ]
     },
     "execution_count": 27,
     "metadata": {},
     "output_type": "execute_result"
    }
   ],
   "source": [
    "# f1 of stable cases\n",
    "f1_score(sia_stable.gold_ori,sia_stable.predict_ori)"
   ]
  },
  {
   "cell_type": "code",
   "execution_count": 28,
   "metadata": {},
   "outputs": [
    {
     "data": {
      "text/plain": [
       "0.7878787878787877"
      ]
     },
     "execution_count": 28,
     "metadata": {},
     "output_type": "execute_result"
    }
   ],
   "source": [
    "# f1 of the whole subset\n",
    "f1_score(sia_comb.gold_ori,sia_comb.predict_ori)"
   ]
  },
  {
   "cell_type": "code",
   "execution_count": 29,
   "metadata": {},
   "outputs": [
    {
     "data": {
      "text/plain": [
       "0.407035175879397"
      ]
     },
     "execution_count": 29,
     "metadata": {},
     "output_type": "execute_result"
    }
   ],
   "source": [
    "f1_score(sia_stable.gold_opposite,sia_stable.predict_opposite)"
   ]
  },
  {
   "cell_type": "code",
   "execution_count": 30,
   "metadata": {},
   "outputs": [
    {
     "data": {
      "text/plain": [
       "0.1854838709677419"
      ]
     },
     "execution_count": 30,
     "metadata": {},
     "output_type": "execute_result"
    }
   ],
   "source": [
    "f1_score(sia_comb.gold_opposite,sia_comb.predict_opposite)"
   ]
  },
  {
   "cell_type": "code",
   "execution_count": null,
   "metadata": {},
   "outputs": [],
   "source": []
  },
  {
   "cell_type": "code",
   "execution_count": null,
   "metadata": {},
   "outputs": [],
   "source": [
    "bert base (935/2402)  f1 of 1309 cases: 0.762;  f1 of 2402 cases: 0.702;\n",
    "stancy (974/2402)  f1 of 1332 cases: 0.813;  f1 of 2402 cases: 0.757;\n",
    "siamese (1130/2402)  f1 of 1130 cases: 0.873;  f1 of 2402 cases: 0.788;"
   ]
  }
 ],
 "metadata": {
  "kernelspec": {
   "display_name": "TensorFlow-GPU",
   "language": "python",
   "name": "tf-gpu"
  },
  "language_info": {
   "codemirror_mode": {
    "name": "ipython",
    "version": 3
   },
   "file_extension": ".py",
   "mimetype": "text/x-python",
   "name": "python",
   "nbconvert_exporter": "python",
   "pygments_lexer": "ipython3",
   "version": "3.7.6"
  }
 },
 "nbformat": 4,
 "nbformat_minor": 2
}
