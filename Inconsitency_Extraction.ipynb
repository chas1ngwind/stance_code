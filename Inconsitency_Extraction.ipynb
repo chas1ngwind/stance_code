{
 "cells": [
  {
   "cell_type": "code",
   "execution_count": 110,
   "metadata": {},
   "outputs": [],
   "source": [
    "import pandas as pd"
   ]
  },
  {
   "cell_type": "code",
   "execution_count": 111,
   "metadata": {},
   "outputs": [],
   "source": [
    "base_ori = pd.read_csv(\"./Evaluation/bert_dummy_output/onnew_neg_bert_base_raw_score.csv\")\n",
    "stancy_ori = pd.read_csv(\"./Evaluation/bert_dummy_output/onnew_neg_bert_cons_epoch5_raw_score.csv\")\n",
    "sia_ori = pd.read_csv(\"./Evaluation/bert_dummy_output/new_neg_bert_sia_cos_bs24_lr2e_5_epoch30_raw_score.csv\")"
   ]
  },
  {
   "cell_type": "code",
   "execution_count": 112,
   "metadata": {},
   "outputs": [],
   "source": [
    "base_opp = pd.read_csv(\"./Evaluation/antonym_output/onnew_neg_opposite_perspectives_bert_base_raw_score.csv\")\n",
    "stancy_opp = pd.read_csv(\"./Evaluation/antonym_output/onnew_neg_opposite_perspectives_bert_cons_epoch5_raw_score.csv\")\n",
    "sia_opp = pd.read_csv(\"./Evaluation/antonym_output/new_neg_opposite_perspectives_bert_sia_cos_bs24_lr2e_5_epoch30_raw_score.csv\")"
   ]
  },
  {
   "cell_type": "code",
   "execution_count": 113,
   "metadata": {},
   "outputs": [],
   "source": [
    "base_ori.rename(columns={'undermine_score':'undermine_ori','support_score':'support_ori', 'predict_label':'predict_ori', 'gold':'gold_ori' },inplace=True)\n",
    "stancy_ori.rename(columns={'undermine_score':'undermine_ori','support_score':'support_ori', 'predict_label':'predict_ori', 'gold':'gold_ori' },inplace=True)\n",
    "sia_ori.rename(columns={'undermine_score':'undermine_ori','support_score':'support_ori', 'predict_label':'predict_ori', 'gold':'gold_ori' },inplace=True)"
   ]
  },
  {
   "cell_type": "code",
   "execution_count": 114,
   "metadata": {},
   "outputs": [
    {
     "data": {
      "text/html": [
       "<div>\n",
       "<style scoped>\n",
       "    .dataframe tbody tr th:only-of-type {\n",
       "        vertical-align: middle;\n",
       "    }\n",
       "\n",
       "    .dataframe tbody tr th {\n",
       "        vertical-align: top;\n",
       "    }\n",
       "\n",
       "    .dataframe thead th {\n",
       "        text-align: right;\n",
       "    }\n",
       "</style>\n",
       "<table border=\"1\" class=\"dataframe\">\n",
       "  <thead>\n",
       "    <tr style=\"text-align: right;\">\n",
       "      <th></th>\n",
       "      <th>undermine_ori</th>\n",
       "      <th>support_ori</th>\n",
       "      <th>predict_ori</th>\n",
       "      <th>gold_ori</th>\n",
       "    </tr>\n",
       "  </thead>\n",
       "  <tbody>\n",
       "    <tr>\n",
       "      <th>0</th>\n",
       "      <td>-1.104498</td>\n",
       "      <td>1.399804</td>\n",
       "      <td>1</td>\n",
       "      <td>1</td>\n",
       "    </tr>\n",
       "    <tr>\n",
       "      <th>1</th>\n",
       "      <td>-1.272779</td>\n",
       "      <td>1.762252</td>\n",
       "      <td>1</td>\n",
       "      <td>0</td>\n",
       "    </tr>\n",
       "    <tr>\n",
       "      <th>2</th>\n",
       "      <td>-3.644970</td>\n",
       "      <td>4.152650</td>\n",
       "      <td>1</td>\n",
       "      <td>1</td>\n",
       "    </tr>\n",
       "    <tr>\n",
       "      <th>3</th>\n",
       "      <td>-2.216542</td>\n",
       "      <td>2.491149</td>\n",
       "      <td>1</td>\n",
       "      <td>1</td>\n",
       "    </tr>\n",
       "    <tr>\n",
       "      <th>4</th>\n",
       "      <td>-1.375447</td>\n",
       "      <td>1.548147</td>\n",
       "      <td>1</td>\n",
       "      <td>1</td>\n",
       "    </tr>\n",
       "    <tr>\n",
       "      <th>...</th>\n",
       "      <td>...</td>\n",
       "      <td>...</td>\n",
       "      <td>...</td>\n",
       "      <td>...</td>\n",
       "    </tr>\n",
       "    <tr>\n",
       "      <th>2397</th>\n",
       "      <td>-3.182455</td>\n",
       "      <td>3.654049</td>\n",
       "      <td>1</td>\n",
       "      <td>0</td>\n",
       "    </tr>\n",
       "    <tr>\n",
       "      <th>2398</th>\n",
       "      <td>-3.327009</td>\n",
       "      <td>3.956924</td>\n",
       "      <td>1</td>\n",
       "      <td>0</td>\n",
       "    </tr>\n",
       "    <tr>\n",
       "      <th>2399</th>\n",
       "      <td>2.547285</td>\n",
       "      <td>-2.342756</td>\n",
       "      <td>0</td>\n",
       "      <td>1</td>\n",
       "    </tr>\n",
       "    <tr>\n",
       "      <th>2400</th>\n",
       "      <td>4.318411</td>\n",
       "      <td>-4.532940</td>\n",
       "      <td>0</td>\n",
       "      <td>1</td>\n",
       "    </tr>\n",
       "    <tr>\n",
       "      <th>2401</th>\n",
       "      <td>3.814458</td>\n",
       "      <td>-3.830362</td>\n",
       "      <td>0</td>\n",
       "      <td>1</td>\n",
       "    </tr>\n",
       "  </tbody>\n",
       "</table>\n",
       "<p>2402 rows × 4 columns</p>\n",
       "</div>"
      ],
      "text/plain": [
       "      undermine_ori  support_ori  predict_ori  gold_ori\n",
       "0         -1.104498     1.399804            1         1\n",
       "1         -1.272779     1.762252            1         0\n",
       "2         -3.644970     4.152650            1         1\n",
       "3         -2.216542     2.491149            1         1\n",
       "4         -1.375447     1.548147            1         1\n",
       "...             ...          ...          ...       ...\n",
       "2397      -3.182455     3.654049            1         0\n",
       "2398      -3.327009     3.956924            1         0\n",
       "2399       2.547285    -2.342756            0         1\n",
       "2400       4.318411    -4.532940            0         1\n",
       "2401       3.814458    -3.830362            0         1\n",
       "\n",
       "[2402 rows x 4 columns]"
      ]
     },
     "execution_count": 114,
     "metadata": {},
     "output_type": "execute_result"
    }
   ],
   "source": [
    "base_ori"
   ]
  },
  {
   "cell_type": "code",
   "execution_count": 115,
   "metadata": {},
   "outputs": [],
   "source": [
    "base_opp.rename(columns={'undermine_score':'undermine_opposite','support_score':'support_opposite', 'predict_label':'predict_opposite', 'gold':'gold_opposite' },inplace=True)\n",
    "stancy_opp.rename(columns={'undermine_score':'undermine_opposite','support_score':'support_opposite', 'predict_label':'predict_opposite', 'gold':'gold_opposite' },inplace=True)\n",
    "sia_opp.rename(columns={'undermine_score':'undermine_opposite','support_score':'support_opposite', 'predict_label':'predict_opposite', 'gold':'gold_opposite' },inplace=True)"
   ]
  },
  {
   "cell_type": "code",
   "execution_count": 116,
   "metadata": {},
   "outputs": [
    {
     "data": {
      "text/html": [
       "<div>\n",
       "<style scoped>\n",
       "    .dataframe tbody tr th:only-of-type {\n",
       "        vertical-align: middle;\n",
       "    }\n",
       "\n",
       "    .dataframe tbody tr th {\n",
       "        vertical-align: top;\n",
       "    }\n",
       "\n",
       "    .dataframe thead th {\n",
       "        text-align: right;\n",
       "    }\n",
       "</style>\n",
       "<table border=\"1\" class=\"dataframe\">\n",
       "  <thead>\n",
       "    <tr style=\"text-align: right;\">\n",
       "      <th></th>\n",
       "      <th>undermine_opposite</th>\n",
       "      <th>support_opposite</th>\n",
       "      <th>predict_opposite</th>\n",
       "      <th>gold_opposite</th>\n",
       "    </tr>\n",
       "  </thead>\n",
       "  <tbody>\n",
       "    <tr>\n",
       "      <th>0</th>\n",
       "      <td>-0.886965</td>\n",
       "      <td>0.841433</td>\n",
       "      <td>1</td>\n",
       "      <td>0</td>\n",
       "    </tr>\n",
       "    <tr>\n",
       "      <th>1</th>\n",
       "      <td>-0.860910</td>\n",
       "      <td>1.316047</td>\n",
       "      <td>1</td>\n",
       "      <td>1</td>\n",
       "    </tr>\n",
       "    <tr>\n",
       "      <th>2</th>\n",
       "      <td>-1.822727</td>\n",
       "      <td>2.088518</td>\n",
       "      <td>1</td>\n",
       "      <td>0</td>\n",
       "    </tr>\n",
       "    <tr>\n",
       "      <th>3</th>\n",
       "      <td>0.655416</td>\n",
       "      <td>-0.446708</td>\n",
       "      <td>0</td>\n",
       "      <td>0</td>\n",
       "    </tr>\n",
       "    <tr>\n",
       "      <th>4</th>\n",
       "      <td>2.253140</td>\n",
       "      <td>-1.940499</td>\n",
       "      <td>0</td>\n",
       "      <td>0</td>\n",
       "    </tr>\n",
       "    <tr>\n",
       "      <th>...</th>\n",
       "      <td>...</td>\n",
       "      <td>...</td>\n",
       "      <td>...</td>\n",
       "      <td>...</td>\n",
       "    </tr>\n",
       "    <tr>\n",
       "      <th>2397</th>\n",
       "      <td>1.359215</td>\n",
       "      <td>-1.050081</td>\n",
       "      <td>0</td>\n",
       "      <td>1</td>\n",
       "    </tr>\n",
       "    <tr>\n",
       "      <th>2398</th>\n",
       "      <td>0.252174</td>\n",
       "      <td>-0.473792</td>\n",
       "      <td>0</td>\n",
       "      <td>1</td>\n",
       "    </tr>\n",
       "    <tr>\n",
       "      <th>2399</th>\n",
       "      <td>0.010933</td>\n",
       "      <td>-0.189821</td>\n",
       "      <td>0</td>\n",
       "      <td>0</td>\n",
       "    </tr>\n",
       "    <tr>\n",
       "      <th>2400</th>\n",
       "      <td>1.690355</td>\n",
       "      <td>-1.151755</td>\n",
       "      <td>0</td>\n",
       "      <td>0</td>\n",
       "    </tr>\n",
       "    <tr>\n",
       "      <th>2401</th>\n",
       "      <td>0.437417</td>\n",
       "      <td>-0.639354</td>\n",
       "      <td>0</td>\n",
       "      <td>0</td>\n",
       "    </tr>\n",
       "  </tbody>\n",
       "</table>\n",
       "<p>2402 rows × 4 columns</p>\n",
       "</div>"
      ],
      "text/plain": [
       "      undermine_opposite  support_opposite  predict_opposite  gold_opposite\n",
       "0              -0.886965          0.841433                 1              0\n",
       "1              -0.860910          1.316047                 1              1\n",
       "2              -1.822727          2.088518                 1              0\n",
       "3               0.655416         -0.446708                 0              0\n",
       "4               2.253140         -1.940499                 0              0\n",
       "...                  ...               ...               ...            ...\n",
       "2397            1.359215         -1.050081                 0              1\n",
       "2398            0.252174         -0.473792                 0              1\n",
       "2399            0.010933         -0.189821                 0              0\n",
       "2400            1.690355         -1.151755                 0              0\n",
       "2401            0.437417         -0.639354                 0              0\n",
       "\n",
       "[2402 rows x 4 columns]"
      ]
     },
     "execution_count": 116,
     "metadata": {},
     "output_type": "execute_result"
    }
   ],
   "source": [
    "base_opp"
   ]
  },
  {
   "cell_type": "code",
   "execution_count": 117,
   "metadata": {},
   "outputs": [],
   "source": [
    "base_comb = pd.concat([base_ori,base_opp],axis=1)\n",
    "stancy_comb = pd.concat([stancy_ori,stancy_opp],axis=1)\n",
    "sia_comb = pd.concat([sia_ori,sia_opp],axis=1)"
   ]
  },
  {
   "cell_type": "code",
   "execution_count": 118,
   "metadata": {},
   "outputs": [
    {
     "data": {
      "text/html": [
       "<div>\n",
       "<style scoped>\n",
       "    .dataframe tbody tr th:only-of-type {\n",
       "        vertical-align: middle;\n",
       "    }\n",
       "\n",
       "    .dataframe tbody tr th {\n",
       "        vertical-align: top;\n",
       "    }\n",
       "\n",
       "    .dataframe thead th {\n",
       "        text-align: right;\n",
       "    }\n",
       "</style>\n",
       "<table border=\"1\" class=\"dataframe\">\n",
       "  <thead>\n",
       "    <tr style=\"text-align: right;\">\n",
       "      <th></th>\n",
       "      <th>undermine_ori</th>\n",
       "      <th>support_ori</th>\n",
       "      <th>predict_ori</th>\n",
       "      <th>gold_ori</th>\n",
       "      <th>undermine_opposite</th>\n",
       "      <th>support_opposite</th>\n",
       "      <th>predict_opposite</th>\n",
       "      <th>gold_opposite</th>\n",
       "    </tr>\n",
       "  </thead>\n",
       "  <tbody>\n",
       "    <tr>\n",
       "      <th>0</th>\n",
       "      <td>-5.659800</td>\n",
       "      <td>8.410093</td>\n",
       "      <td>1</td>\n",
       "      <td>1</td>\n",
       "      <td>-5.462558</td>\n",
       "      <td>8.178183</td>\n",
       "      <td>1</td>\n",
       "      <td>0</td>\n",
       "    </tr>\n",
       "    <tr>\n",
       "      <th>1</th>\n",
       "      <td>6.123189</td>\n",
       "      <td>-4.846788</td>\n",
       "      <td>0</td>\n",
       "      <td>0</td>\n",
       "      <td>-5.647560</td>\n",
       "      <td>8.411349</td>\n",
       "      <td>1</td>\n",
       "      <td>1</td>\n",
       "    </tr>\n",
       "    <tr>\n",
       "      <th>2</th>\n",
       "      <td>2.609766</td>\n",
       "      <td>-1.099538</td>\n",
       "      <td>0</td>\n",
       "      <td>1</td>\n",
       "      <td>8.459325</td>\n",
       "      <td>-7.760164</td>\n",
       "      <td>0</td>\n",
       "      <td>0</td>\n",
       "    </tr>\n",
       "    <tr>\n",
       "      <th>3</th>\n",
       "      <td>5.133741</td>\n",
       "      <td>-3.710541</td>\n",
       "      <td>0</td>\n",
       "      <td>1</td>\n",
       "      <td>4.360720</td>\n",
       "      <td>-2.757958</td>\n",
       "      <td>0</td>\n",
       "      <td>0</td>\n",
       "    </tr>\n",
       "    <tr>\n",
       "      <th>4</th>\n",
       "      <td>-3.736549</td>\n",
       "      <td>6.248719</td>\n",
       "      <td>1</td>\n",
       "      <td>1</td>\n",
       "      <td>4.862767</td>\n",
       "      <td>-3.312057</td>\n",
       "      <td>0</td>\n",
       "      <td>0</td>\n",
       "    </tr>\n",
       "    <tr>\n",
       "      <th>...</th>\n",
       "      <td>...</td>\n",
       "      <td>...</td>\n",
       "      <td>...</td>\n",
       "      <td>...</td>\n",
       "      <td>...</td>\n",
       "      <td>...</td>\n",
       "      <td>...</td>\n",
       "      <td>...</td>\n",
       "    </tr>\n",
       "    <tr>\n",
       "      <th>2397</th>\n",
       "      <td>1.204155</td>\n",
       "      <td>-1.608856</td>\n",
       "      <td>0</td>\n",
       "      <td>0</td>\n",
       "      <td>0.869449</td>\n",
       "      <td>-1.214664</td>\n",
       "      <td>0</td>\n",
       "      <td>1</td>\n",
       "    </tr>\n",
       "    <tr>\n",
       "      <th>2398</th>\n",
       "      <td>1.730360</td>\n",
       "      <td>-2.154261</td>\n",
       "      <td>0</td>\n",
       "      <td>0</td>\n",
       "      <td>-5.287125</td>\n",
       "      <td>4.567977</td>\n",
       "      <td>1</td>\n",
       "      <td>1</td>\n",
       "    </tr>\n",
       "    <tr>\n",
       "      <th>2399</th>\n",
       "      <td>-3.720044</td>\n",
       "      <td>2.957295</td>\n",
       "      <td>1</td>\n",
       "      <td>1</td>\n",
       "      <td>1.710512</td>\n",
       "      <td>-2.128206</td>\n",
       "      <td>0</td>\n",
       "      <td>0</td>\n",
       "    </tr>\n",
       "    <tr>\n",
       "      <th>2400</th>\n",
       "      <td>-3.745683</td>\n",
       "      <td>2.977419</td>\n",
       "      <td>1</td>\n",
       "      <td>1</td>\n",
       "      <td>1.679382</td>\n",
       "      <td>-2.103550</td>\n",
       "      <td>0</td>\n",
       "      <td>0</td>\n",
       "    </tr>\n",
       "    <tr>\n",
       "      <th>2401</th>\n",
       "      <td>-2.807508</td>\n",
       "      <td>1.740879</td>\n",
       "      <td>1</td>\n",
       "      <td>1</td>\n",
       "      <td>-2.779148</td>\n",
       "      <td>1.708421</td>\n",
       "      <td>1</td>\n",
       "      <td>0</td>\n",
       "    </tr>\n",
       "  </tbody>\n",
       "</table>\n",
       "<p>2402 rows × 8 columns</p>\n",
       "</div>"
      ],
      "text/plain": [
       "      undermine_ori  support_ori  predict_ori  gold_ori  undermine_opposite  \\\n",
       "0         -5.659800     8.410093            1         1           -5.462558   \n",
       "1          6.123189    -4.846788            0         0           -5.647560   \n",
       "2          2.609766    -1.099538            0         1            8.459325   \n",
       "3          5.133741    -3.710541            0         1            4.360720   \n",
       "4         -3.736549     6.248719            1         1            4.862767   \n",
       "...             ...          ...          ...       ...                 ...   \n",
       "2397       1.204155    -1.608856            0         0            0.869449   \n",
       "2398       1.730360    -2.154261            0         0           -5.287125   \n",
       "2399      -3.720044     2.957295            1         1            1.710512   \n",
       "2400      -3.745683     2.977419            1         1            1.679382   \n",
       "2401      -2.807508     1.740879            1         1           -2.779148   \n",
       "\n",
       "      support_opposite  predict_opposite  gold_opposite  \n",
       "0             8.178183                 1              0  \n",
       "1             8.411349                 1              1  \n",
       "2            -7.760164                 0              0  \n",
       "3            -2.757958                 0              0  \n",
       "4            -3.312057                 0              0  \n",
       "...                ...               ...            ...  \n",
       "2397         -1.214664                 0              1  \n",
       "2398          4.567977                 1              1  \n",
       "2399         -2.128206                 0              0  \n",
       "2400         -2.103550                 0              0  \n",
       "2401          1.708421                 1              0  \n",
       "\n",
       "[2402 rows x 8 columns]"
      ]
     },
     "execution_count": 118,
     "metadata": {},
     "output_type": "execute_result"
    }
   ],
   "source": [
    "sia_comb"
   ]
  },
  {
   "cell_type": "code",
   "execution_count": 119,
   "metadata": {},
   "outputs": [],
   "source": [
    "base_stable = base_comb[base_comb.predict_ori!=base_comb.predict_opposite]\n",
    "stancy_stable = stancy_comb[stancy_comb.predict_ori!=stancy_comb.predict_opposite]\n",
    "sia_stable = sia_comb[sia_comb.predict_ori!=sia_comb.predict_opposite]"
   ]
  },
  {
   "cell_type": "code",
   "execution_count": 135,
   "metadata": {},
   "outputs": [
    {
     "data": {
      "text/html": [
       "<div>\n",
       "<style scoped>\n",
       "    .dataframe tbody tr th:only-of-type {\n",
       "        vertical-align: middle;\n",
       "    }\n",
       "\n",
       "    .dataframe tbody tr th {\n",
       "        vertical-align: top;\n",
       "    }\n",
       "\n",
       "    .dataframe thead th {\n",
       "        text-align: right;\n",
       "    }\n",
       "</style>\n",
       "<table border=\"1\" class=\"dataframe\">\n",
       "  <thead>\n",
       "    <tr style=\"text-align: right;\">\n",
       "      <th></th>\n",
       "      <th>undermine_ori</th>\n",
       "      <th>support_ori</th>\n",
       "      <th>predict_ori</th>\n",
       "      <th>gold_ori</th>\n",
       "      <th>undermine_opposite</th>\n",
       "      <th>support_opposite</th>\n",
       "      <th>predict_opposite</th>\n",
       "      <th>gold_opposite</th>\n",
       "    </tr>\n",
       "  </thead>\n",
       "  <tbody>\n",
       "    <tr>\n",
       "      <th>1</th>\n",
       "      <td>6.123189</td>\n",
       "      <td>-4.846788</td>\n",
       "      <td>0</td>\n",
       "      <td>0</td>\n",
       "      <td>-5.647560</td>\n",
       "      <td>8.411349</td>\n",
       "      <td>1</td>\n",
       "      <td>1</td>\n",
       "    </tr>\n",
       "    <tr>\n",
       "      <th>4</th>\n",
       "      <td>-3.736549</td>\n",
       "      <td>6.248719</td>\n",
       "      <td>1</td>\n",
       "      <td>1</td>\n",
       "      <td>4.862767</td>\n",
       "      <td>-3.312057</td>\n",
       "      <td>0</td>\n",
       "      <td>0</td>\n",
       "    </tr>\n",
       "    <tr>\n",
       "      <th>5</th>\n",
       "      <td>-5.648978</td>\n",
       "      <td>8.431259</td>\n",
       "      <td>1</td>\n",
       "      <td>1</td>\n",
       "      <td>4.233076</td>\n",
       "      <td>-2.612038</td>\n",
       "      <td>0</td>\n",
       "      <td>0</td>\n",
       "    </tr>\n",
       "    <tr>\n",
       "      <th>6</th>\n",
       "      <td>-5.597363</td>\n",
       "      <td>8.379188</td>\n",
       "      <td>1</td>\n",
       "      <td>1</td>\n",
       "      <td>4.695032</td>\n",
       "      <td>-3.077996</td>\n",
       "      <td>0</td>\n",
       "      <td>0</td>\n",
       "    </tr>\n",
       "    <tr>\n",
       "      <th>8</th>\n",
       "      <td>-5.597363</td>\n",
       "      <td>8.379188</td>\n",
       "      <td>1</td>\n",
       "      <td>1</td>\n",
       "      <td>4.695032</td>\n",
       "      <td>-3.077996</td>\n",
       "      <td>0</td>\n",
       "      <td>0</td>\n",
       "    </tr>\n",
       "    <tr>\n",
       "      <th>...</th>\n",
       "      <td>...</td>\n",
       "      <td>...</td>\n",
       "      <td>...</td>\n",
       "      <td>...</td>\n",
       "      <td>...</td>\n",
       "      <td>...</td>\n",
       "      <td>...</td>\n",
       "      <td>...</td>\n",
       "    </tr>\n",
       "    <tr>\n",
       "      <th>2394</th>\n",
       "      <td>1.556710</td>\n",
       "      <td>-2.007751</td>\n",
       "      <td>0</td>\n",
       "      <td>0</td>\n",
       "      <td>-4.243136</td>\n",
       "      <td>3.589785</td>\n",
       "      <td>1</td>\n",
       "      <td>1</td>\n",
       "    </tr>\n",
       "    <tr>\n",
       "      <th>2395</th>\n",
       "      <td>1.994757</td>\n",
       "      <td>-2.375398</td>\n",
       "      <td>0</td>\n",
       "      <td>0</td>\n",
       "      <td>-5.797869</td>\n",
       "      <td>5.096775</td>\n",
       "      <td>1</td>\n",
       "      <td>1</td>\n",
       "    </tr>\n",
       "    <tr>\n",
       "      <th>2398</th>\n",
       "      <td>1.730360</td>\n",
       "      <td>-2.154261</td>\n",
       "      <td>0</td>\n",
       "      <td>0</td>\n",
       "      <td>-5.287125</td>\n",
       "      <td>4.567977</td>\n",
       "      <td>1</td>\n",
       "      <td>1</td>\n",
       "    </tr>\n",
       "    <tr>\n",
       "      <th>2399</th>\n",
       "      <td>-3.720044</td>\n",
       "      <td>2.957295</td>\n",
       "      <td>1</td>\n",
       "      <td>1</td>\n",
       "      <td>1.710512</td>\n",
       "      <td>-2.128206</td>\n",
       "      <td>0</td>\n",
       "      <td>0</td>\n",
       "    </tr>\n",
       "    <tr>\n",
       "      <th>2400</th>\n",
       "      <td>-3.745683</td>\n",
       "      <td>2.977419</td>\n",
       "      <td>1</td>\n",
       "      <td>1</td>\n",
       "      <td>1.679382</td>\n",
       "      <td>-2.103550</td>\n",
       "      <td>0</td>\n",
       "      <td>0</td>\n",
       "    </tr>\n",
       "  </tbody>\n",
       "</table>\n",
       "<p>1298 rows × 8 columns</p>\n",
       "</div>"
      ],
      "text/plain": [
       "      undermine_ori  support_ori  predict_ori  gold_ori  undermine_opposite  \\\n",
       "1          6.123189    -4.846788            0         0           -5.647560   \n",
       "4         -3.736549     6.248719            1         1            4.862767   \n",
       "5         -5.648978     8.431259            1         1            4.233076   \n",
       "6         -5.597363     8.379188            1         1            4.695032   \n",
       "8         -5.597363     8.379188            1         1            4.695032   \n",
       "...             ...          ...          ...       ...                 ...   \n",
       "2394       1.556710    -2.007751            0         0           -4.243136   \n",
       "2395       1.994757    -2.375398            0         0           -5.797869   \n",
       "2398       1.730360    -2.154261            0         0           -5.287125   \n",
       "2399      -3.720044     2.957295            1         1            1.710512   \n",
       "2400      -3.745683     2.977419            1         1            1.679382   \n",
       "\n",
       "      support_opposite  predict_opposite  gold_opposite  \n",
       "1             8.411349                 1              1  \n",
       "4            -3.312057                 0              0  \n",
       "5            -2.612038                 0              0  \n",
       "6            -3.077996                 0              0  \n",
       "8            -3.077996                 0              0  \n",
       "...                ...               ...            ...  \n",
       "2394          3.589785                 1              1  \n",
       "2395          5.096775                 1              1  \n",
       "2398          4.567977                 1              1  \n",
       "2399         -2.128206                 0              0  \n",
       "2400         -2.103550                 0              0  \n",
       "\n",
       "[1298 rows x 8 columns]"
      ]
     },
     "execution_count": 135,
     "metadata": {},
     "output_type": "execute_result"
    }
   ],
   "source": [
    "sia_stable"
   ]
  },
  {
   "cell_type": "code",
   "execution_count": 139,
   "metadata": {},
   "outputs": [],
   "source": [
    "from sklearn.metrics import f1_score,precision_score,recall_score"
   ]
  },
  {
   "cell_type": "code",
   "execution_count": 140,
   "metadata": {},
   "outputs": [
    {
     "data": {
      "text/plain": [
       "0.7521263669501823"
      ]
     },
     "execution_count": 140,
     "metadata": {},
     "output_type": "execute_result"
    }
   ],
   "source": [
    "precision_score(base_stable.gold_ori,base_stable.predict_ori)"
   ]
  },
  {
   "cell_type": "code",
   "execution_count": 141,
   "metadata": {},
   "outputs": [
    {
     "data": {
      "text/plain": [
       "0.8102094240837696"
      ]
     },
     "execution_count": 141,
     "metadata": {},
     "output_type": "execute_result"
    }
   ],
   "source": [
    "recall_score(base_stable.gold_ori,base_stable.predict_ori)"
   ]
  },
  {
   "cell_type": "code",
   "execution_count": 122,
   "metadata": {},
   "outputs": [
    {
     "data": {
      "text/plain": [
       "0.7800882167611846"
      ]
     },
     "execution_count": 122,
     "metadata": {},
     "output_type": "execute_result"
    }
   ],
   "source": [
    "f1_score(base_stable.gold_ori,base_stable.predict_ori)"
   ]
  },
  {
   "cell_type": "code",
   "execution_count": 123,
   "metadata": {},
   "outputs": [
    {
     "data": {
      "text/plain": [
       "0.7020408163265306"
      ]
     },
     "execution_count": 123,
     "metadata": {},
     "output_type": "execute_result"
    }
   ],
   "source": [
    "f1_score(base_comb.gold_ori,base_comb.predict_ori)"
   ]
  },
  {
   "cell_type": "code",
   "execution_count": 124,
   "metadata": {},
   "outputs": [
    {
     "data": {
      "text/plain": [
       "0.661493695441319"
      ]
     },
     "execution_count": 124,
     "metadata": {},
     "output_type": "execute_result"
    }
   ],
   "source": [
    "f1_score(base_stable.gold_opposite,base_stable.predict_opposite)"
   ]
  },
  {
   "cell_type": "code",
   "execution_count": 125,
   "metadata": {},
   "outputs": [
    {
     "data": {
      "text/plain": [
       "0.4692346173086543"
      ]
     },
     "execution_count": 125,
     "metadata": {},
     "output_type": "execute_result"
    }
   ],
   "source": [
    "f1_score(base_comb.gold_opposite,base_comb.predict_opposite)"
   ]
  },
  {
   "cell_type": "code",
   "execution_count": null,
   "metadata": {},
   "outputs": [],
   "source": []
  },
  {
   "cell_type": "code",
   "execution_count": 144,
   "metadata": {},
   "outputs": [
    {
     "data": {
      "text/plain": [
       "0.7835909631391201"
      ]
     },
     "execution_count": 144,
     "metadata": {},
     "output_type": "execute_result"
    }
   ],
   "source": [
    "precision_score(stancy_stable.gold_ori,stancy_stable.predict_ori)"
   ]
  },
  {
   "cell_type": "code",
   "execution_count": 145,
   "metadata": {},
   "outputs": [
    {
     "data": {
      "text/plain": [
       "0.8659658344283837"
      ]
     },
     "execution_count": 145,
     "metadata": {},
     "output_type": "execute_result"
    }
   ],
   "source": [
    "recall_score(stancy_stable.gold_ori,stancy_stable.predict_ori)"
   ]
  },
  {
   "cell_type": "code",
   "execution_count": 126,
   "metadata": {},
   "outputs": [
    {
     "data": {
      "text/plain": [
       "0.822721598002497"
      ]
     },
     "execution_count": 126,
     "metadata": {},
     "output_type": "execute_result"
    }
   ],
   "source": [
    "f1_score(stancy_stable.gold_ori,stancy_stable.predict_ori)"
   ]
  },
  {
   "cell_type": "code",
   "execution_count": 127,
   "metadata": {},
   "outputs": [
    {
     "data": {
      "text/plain": [
       "0.7572347266881029"
      ]
     },
     "execution_count": 127,
     "metadata": {},
     "output_type": "execute_result"
    }
   ],
   "source": [
    "f1_score(stancy_comb.gold_ori,stancy_comb.predict_ori)"
   ]
  },
  {
   "cell_type": "code",
   "execution_count": 128,
   "metadata": {},
   "outputs": [
    {
     "data": {
      "text/plain": [
       "0.7325800376647834"
      ]
     },
     "execution_count": 128,
     "metadata": {},
     "output_type": "execute_result"
    }
   ],
   "source": [
    "f1_score(stancy_stable.gold_opposite,stancy_stable.predict_opposite)"
   ]
  },
  {
   "cell_type": "code",
   "execution_count": 129,
   "metadata": {},
   "outputs": [
    {
     "data": {
      "text/plain": [
       "0.4891304347826087"
      ]
     },
     "execution_count": 129,
     "metadata": {},
     "output_type": "execute_result"
    }
   ],
   "source": [
    "f1_score(stancy_comb.gold_opposite,stancy_comb.predict_opposite)"
   ]
  },
  {
   "cell_type": "code",
   "execution_count": null,
   "metadata": {},
   "outputs": [],
   "source": []
  },
  {
   "cell_type": "code",
   "execution_count": 142,
   "metadata": {},
   "outputs": [
    {
     "data": {
      "text/plain": [
       "0.8305732484076433"
      ]
     },
     "execution_count": 142,
     "metadata": {},
     "output_type": "execute_result"
    }
   ],
   "source": [
    "precision_score(sia_stable.gold_ori,sia_stable.predict_ori)"
   ]
  },
  {
   "cell_type": "code",
   "execution_count": 143,
   "metadata": {},
   "outputs": [
    {
     "data": {
      "text/plain": [
       "0.8787061994609164"
      ]
     },
     "execution_count": 143,
     "metadata": {},
     "output_type": "execute_result"
    }
   ],
   "source": [
    "recall_score(sia_stable.gold_ori,sia_stable.predict_ori)"
   ]
  },
  {
   "cell_type": "code",
   "execution_count": 130,
   "metadata": {},
   "outputs": [
    {
     "data": {
      "text/plain": [
       "0.85396201702685"
      ]
     },
     "execution_count": 130,
     "metadata": {},
     "output_type": "execute_result"
    }
   ],
   "source": [
    "f1_score(sia_stable.gold_ori,sia_stable.predict_ori)"
   ]
  },
  {
   "cell_type": "code",
   "execution_count": 131,
   "metadata": {},
   "outputs": [
    {
     "data": {
      "text/plain": [
       "0.7878787878787877"
      ]
     },
     "execution_count": 131,
     "metadata": {},
     "output_type": "execute_result"
    }
   ],
   "source": [
    "f1_score(sia_comb.gold_ori,sia_comb.predict_ori)"
   ]
  },
  {
   "cell_type": "code",
   "execution_count": 132,
   "metadata": {},
   "outputs": [
    {
     "data": {
      "text/plain": [
       "0.7913938260056127"
      ]
     },
     "execution_count": 132,
     "metadata": {},
     "output_type": "execute_result"
    }
   ],
   "source": [
    "f1_score(sia_stable.gold_opposite,sia_stable.predict_opposite)"
   ]
  },
  {
   "cell_type": "code",
   "execution_count": 133,
   "metadata": {},
   "outputs": [
    {
     "data": {
      "text/plain": [
       "0.5202639019792649"
      ]
     },
     "execution_count": 133,
     "metadata": {},
     "output_type": "execute_result"
    }
   ],
   "source": [
    "f1_score(sia_comb.gold_opposite,sia_comb.predict_opposite)"
   ]
  },
  {
   "cell_type": "code",
   "execution_count": null,
   "metadata": {},
   "outputs": [],
   "source": []
  }
 ],
 "metadata": {
  "kernelspec": {
   "display_name": "TensorFlow-GPU",
   "language": "python",
   "name": "tf-gpu"
  },
  "language_info": {
   "codemirror_mode": {
    "name": "ipython",
    "version": 3
   },
   "file_extension": ".py",
   "mimetype": "text/x-python",
   "name": "python",
   "nbconvert_exporter": "python",
   "pygments_lexer": "ipython3",
   "version": "3.7.6"
  }
 },
 "nbformat": 4,
 "nbformat_minor": 2
}
